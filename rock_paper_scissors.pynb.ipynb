{
 "cells": [
  {
   "cell_type": "code",
   "execution_count": 1,
   "metadata": {},
   "outputs": [
    {
     "name": "stdout",
     "output_type": "stream",
     "text": [
      "Enter your choice (Rock/Paper/Scissors) or 'I quit' to exit: rock\n",
      "Player: Rock\n",
      "Computer: Scissors\n",
      "You Win\n",
      "\n",
      "Enter your choice (Rock/Paper/Scissors) or 'I quit' to exit: paper\n",
      "Player: Paper\n",
      "Computer: Paper\n",
      "Game Tied\n",
      "\n",
      "Enter your choice (Rock/Paper/Scissors) or 'I quit' to exit: scissors\n",
      "Player: Scissors\n",
      "Computer: Scissors\n",
      "Game Tied\n",
      "\n",
      "Enter your choice (Rock/Paper/Scissors) or 'I quit' to exit: rock\n",
      "Player: Rock\n",
      "Computer: Rock\n",
      "Game Tied\n",
      "\n",
      "Enter your choice (Rock/Paper/Scissors) or 'I quit' to exit: i quit\n",
      "Thank you for playing.\n"
     ]
    }
   ],
   "source": [
    "import random\n",
    "\n",
    "def get_player_choice():\n",
    "    while True:\n",
    "        choice = input(\"Enter your choice (Rock/Paper/Scissors) or 'I quit' to exit: \").lower()\n",
    "        if choice in [\"rock\", \"paper\", \"scissors\", \"i quit\"]:\n",
    "            return choice\n",
    "        else:\n",
    "            print(\"Invalid choice. Please try again.\")\n",
    "\n",
    "def get_computer_choice():\n",
    "    choices = [\"rock\", \"paper\", \"scissors\"]\n",
    "    return random.choice(choices)\n",
    "\n",
    "def determine_winner(player_choice, computer_choice):\n",
    "    if player_choice == computer_choice:\n",
    "        return \"Game Tied\"\n",
    "    elif (player_choice == \"rock\" and computer_choice == \"paper\") or \\\n",
    "         (player_choice == \"scissors\" and computer_choice == \"rock\") or \\\n",
    "         (player_choice == \"paper\" and computer_choice == \"scissors\"):\n",
    "        return \"You Lose\"\n",
    "    else:\n",
    "        return \"You Win\"\n",
    "\n",
    "# Main game loop\n",
    "while True:\n",
    "    player_choice = get_player_choice()\n",
    "\n",
    "    if player_choice == \"i quit\":\n",
    "        print(\"Thank you for playing.\")\n",
    "        break\n",
    "\n",
    "    computer_choice = get_computer_choice()\n",
    "    result = determine_winner(player_choice, computer_choice)\n",
    "\n",
    "    print(f\"Player: {player_choice.capitalize()}\")\n",
    "    print(f\"Computer: {computer_choice.capitalize()}\")\n",
    "    print(result)\n",
    "    print()\n"
   ]
  }
 ],
 "metadata": {
  "kernelspec": {
   "display_name": "Python 3 (ipykernel)",
   "language": "python",
   "name": "python3"
  },
  "language_info": {
   "codemirror_mode": {
    "name": "ipython",
    "version": 3
   },
   "file_extension": ".py",
   "mimetype": "text/x-python",
   "name": "python",
   "nbconvert_exporter": "python",
   "pygments_lexer": "ipython3",
   "version": "3.10.9"
  }
 },
 "nbformat": 4,
 "nbformat_minor": 2
}
